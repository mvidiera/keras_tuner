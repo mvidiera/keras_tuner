{
 "cells": [
  {
   "cell_type": "markdown",
   "metadata": {},
   "source": [
    "#### Keras Tuner- Decide Number of Hidden Layers And Neuron In Neural Network"
   ]
  },
  {
   "cell_type": "code",
   "execution_count": 1,
   "metadata": {},
   "outputs": [
    {
     "name": "stderr",
     "output_type": "stream",
     "text": [
      "/var/folders/pz/8fj7_jqs1_lglvwks1ym9jl40000gn/T/ipykernel_6842/1549223126.py:4: DeprecationWarning: `import kerastuner` is deprecated, please use `import keras_tuner`.\n",
      "  from kerastuner.tuners import RandomSearch #this specifies how many number of hidden layers and neurons can be used\n"
     ]
    }
   ],
   "source": [
    "import pandas as pd\n",
    "from tensorflow import keras\n",
    "from tensorflow.keras import layers\n",
    "from kerastuner.tuners import RandomSearch #this specifies how many number of hidden layers and neurons can be used"
   ]
  },
  {
   "cell_type": "code",
   "execution_count": 2,
   "metadata": {},
   "outputs": [],
   "source": [
    "df=pd.read_csv('Real_Combine.csv')\n",
    "#air qulaity index. Regression problem. \n",
    "#features: temp, max temp "
   ]
  },
  {
   "cell_type": "code",
   "execution_count": 3,
   "metadata": {},
   "outputs": [
    {
     "data": {
      "text/html": [
       "<div>\n",
       "<style scoped>\n",
       "    .dataframe tbody tr th:only-of-type {\n",
       "        vertical-align: middle;\n",
       "    }\n",
       "\n",
       "    .dataframe tbody tr th {\n",
       "        vertical-align: top;\n",
       "    }\n",
       "\n",
       "    .dataframe thead th {\n",
       "        text-align: right;\n",
       "    }\n",
       "</style>\n",
       "<table border=\"1\" class=\"dataframe\">\n",
       "  <thead>\n",
       "    <tr style=\"text-align: right;\">\n",
       "      <th></th>\n",
       "      <th>T</th>\n",
       "      <th>TM</th>\n",
       "      <th>Tm</th>\n",
       "      <th>SLP</th>\n",
       "      <th>H</th>\n",
       "      <th>VV</th>\n",
       "      <th>V</th>\n",
       "      <th>VM</th>\n",
       "      <th>PM 2.5</th>\n",
       "    </tr>\n",
       "  </thead>\n",
       "  <tbody>\n",
       "    <tr>\n",
       "      <th>0</th>\n",
       "      <td>7.4</td>\n",
       "      <td>9.8</td>\n",
       "      <td>4.8</td>\n",
       "      <td>1017.6</td>\n",
       "      <td>93.0</td>\n",
       "      <td>0.5</td>\n",
       "      <td>4.3</td>\n",
       "      <td>9.4</td>\n",
       "      <td>219.720833</td>\n",
       "    </tr>\n",
       "    <tr>\n",
       "      <th>1</th>\n",
       "      <td>7.8</td>\n",
       "      <td>12.7</td>\n",
       "      <td>4.4</td>\n",
       "      <td>1018.5</td>\n",
       "      <td>87.0</td>\n",
       "      <td>0.6</td>\n",
       "      <td>4.4</td>\n",
       "      <td>11.1</td>\n",
       "      <td>182.187500</td>\n",
       "    </tr>\n",
       "    <tr>\n",
       "      <th>2</th>\n",
       "      <td>6.7</td>\n",
       "      <td>13.4</td>\n",
       "      <td>2.4</td>\n",
       "      <td>1019.4</td>\n",
       "      <td>82.0</td>\n",
       "      <td>0.6</td>\n",
       "      <td>4.8</td>\n",
       "      <td>11.1</td>\n",
       "      <td>154.037500</td>\n",
       "    </tr>\n",
       "    <tr>\n",
       "      <th>3</th>\n",
       "      <td>8.6</td>\n",
       "      <td>15.5</td>\n",
       "      <td>3.3</td>\n",
       "      <td>1018.7</td>\n",
       "      <td>72.0</td>\n",
       "      <td>0.8</td>\n",
       "      <td>8.1</td>\n",
       "      <td>20.6</td>\n",
       "      <td>223.208333</td>\n",
       "    </tr>\n",
       "    <tr>\n",
       "      <th>4</th>\n",
       "      <td>12.4</td>\n",
       "      <td>20.9</td>\n",
       "      <td>4.4</td>\n",
       "      <td>1017.3</td>\n",
       "      <td>61.0</td>\n",
       "      <td>1.3</td>\n",
       "      <td>8.7</td>\n",
       "      <td>22.2</td>\n",
       "      <td>200.645833</td>\n",
       "    </tr>\n",
       "  </tbody>\n",
       "</table>\n",
       "</div>"
      ],
      "text/plain": [
       "      T    TM   Tm     SLP     H   VV    V    VM      PM 2.5\n",
       "0   7.4   9.8  4.8  1017.6  93.0  0.5  4.3   9.4  219.720833\n",
       "1   7.8  12.7  4.4  1018.5  87.0  0.6  4.4  11.1  182.187500\n",
       "2   6.7  13.4  2.4  1019.4  82.0  0.6  4.8  11.1  154.037500\n",
       "3   8.6  15.5  3.3  1018.7  72.0  0.8  8.1  20.6  223.208333\n",
       "4  12.4  20.9  4.4  1017.3  61.0  1.3  8.7  22.2  200.645833"
      ]
     },
     "execution_count": 3,
     "metadata": {},
     "output_type": "execute_result"
    }
   ],
   "source": [
    "df.head()"
   ]
  },
  {
   "cell_type": "code",
   "execution_count": 4,
   "metadata": {},
   "outputs": [],
   "source": [
    "X=df.iloc[:,:-1] ## independent features- all rows, all columns except last\n",
    "y=df.iloc[:,-1] ## dependent features- last column and all rows"
   ]
  },
  {
   "cell_type": "markdown",
   "metadata": {},
   "source": [
    "https://keras.io/keras_tuner/\n",
    "\n",
    "#### Hyperparameters\n",
    "1. How many number of hidden layers we should have?\n",
    "2. How many number of neurons we should have in hidden layers?\n",
    "3. Learning Rate "
   ]
  },
  {
   "cell_type": "code",
   "execution_count": 12,
   "metadata": {},
   "outputs": [],
   "source": [
    "def build_model(hp): #hp- instance of model we're creating \n",
    "    model = keras.Sequential()\n",
    "    for i in range(hp.Int('num_layers', 2, 20)): # my NN can have btw 2 to 20. for each layer\n",
    "        model.add(layers.Dense(units=hp.Int('units_' + str(i), #inside each layer use dense func to create neuron\n",
    "                                            min_value=32,  #min neuron- 32\n",
    "                                            max_value=512, #max neuron- 512\n",
    "                                            step=32),      #\n",
    "                               activation='relu')) # relu activation func is used to redce vanishing gradient \n",
    "        #and works well with all hidden layer\n",
    "        \n",
    "    model.add(layers.Dense(1, activation='linear')) # linear regression\n",
    "    model.compile(\n",
    "        optimizer=keras.optimizers.Adam( # using adam optimiser\n",
    "            hp.Choice('learning_rate', [1e-2, 1e-3, 1e-4])), #learnng rate (alpha) I have given 3, tuner will chose\n",
    "        loss='mean_absolute_error',  \n",
    "        metrics=['mean_absolute_error'])\n",
    "    return model\n",
    "\n",
    "#hp.int: try with different values between upper bound and lower bound provided (number of neurons and layers)\n",
    "#hp.choice: choosing oneof the given values( learning rate)"
   ]
  },
  {
   "cell_type": "code",
   "execution_count": 13,
   "metadata": {},
   "outputs": [],
   "source": [
    "tuner = RandomSearch(\n",
    "    build_model,\n",
    "    objective='val_mean_absolute_error', #it will change for classifcation: val_accuracy\n",
    "    max_trials=5,\n",
    "    executions_per_trial=3, # 5x3= 15 different iterations will execute ane best one is chosen\n",
    "    directory='Aiirproject',\n",
    "    project_name='Air Quality Index')"
   ]
  },
  {
   "cell_type": "code",
   "execution_count": 14,
   "metadata": {},
   "outputs": [
    {
     "name": "stdout",
     "output_type": "stream",
     "text": [
      "Search space summary\n",
      "Default search space size: 4\n",
      "num_layers (Int)\n",
      "{'default': None, 'conditions': [], 'min_value': 2, 'max_value': 20, 'step': 1, 'sampling': None}\n",
      "units_0 (Int)\n",
      "{'default': None, 'conditions': [], 'min_value': 32, 'max_value': 512, 'step': 32, 'sampling': None}\n",
      "units_1 (Int)\n",
      "{'default': None, 'conditions': [], 'min_value': 32, 'max_value': 512, 'step': 32, 'sampling': None}\n",
      "learning_rate (Choice)\n",
      "{'default': 0.01, 'conditions': [], 'values': [0.01, 0.001, 0.0001], 'ordered': True}\n"
     ]
    }
   ],
   "source": [
    "tuner.search_space_summary() # info about each layers"
   ]
  },
  {
   "cell_type": "code",
   "execution_count": 15,
   "metadata": {},
   "outputs": [],
   "source": [
    "from sklearn.model_selection import train_test_split\n",
    "X_train, X_test, y_train, y_test = train_test_split(X, y, test_size=0.3, random_state=0)"
   ]
  },
  {
   "cell_type": "code",
   "execution_count": 16,
   "metadata": {},
   "outputs": [
    {
     "name": "stdout",
     "output_type": "stream",
     "text": [
      "Trial 5 Complete [00h 00m 14s]\n",
      "val_mean_absolute_error: nan\n",
      "\n",
      "Best val_mean_absolute_error So Far: nan\n",
      "Total elapsed time: 00h 00m 42s\n",
      "INFO:tensorflow:Oracle triggered exit\n"
     ]
    }
   ],
   "source": [
    "tuner.search(X_train, y_train,\n",
    "             epochs=6,\n",
    "             validation_data=(X_test, y_test))\n",
    "\n",
    "# 5 epochs"
   ]
  },
  {
   "cell_type": "code",
   "execution_count": 17,
   "metadata": {},
   "outputs": [
    {
     "name": "stdout",
     "output_type": "stream",
     "text": [
      "Results summary\n",
      "Results in Aiirproject/Air Quality Index\n",
      "Showing 10 best trials\n",
      "<keras_tuner.engine.objective.Objective object at 0x7ff2d4d2e7f0>\n",
      "Trial summary\n",
      "Hyperparameters:\n",
      "num_layers: 18\n",
      "units_0: 480\n",
      "units_1: 224\n",
      "learning_rate: 0.001\n",
      "units_2: 32\n",
      "units_3: 32\n",
      "units_4: 32\n",
      "units_5: 32\n",
      "units_6: 32\n",
      "units_7: 32\n",
      "units_8: 32\n",
      "units_9: 32\n",
      "units_10: 32\n",
      "units_11: 32\n",
      "units_12: 32\n",
      "units_13: 32\n",
      "units_14: 32\n",
      "units_15: 32\n",
      "units_16: 32\n",
      "units_17: 32\n",
      "Score: nan\n",
      "Trial summary\n",
      "Hyperparameters:\n",
      "num_layers: 2\n",
      "units_0: 352\n",
      "units_1: 384\n",
      "learning_rate: 0.01\n",
      "units_2: 320\n",
      "units_3: 256\n",
      "units_4: 288\n",
      "units_5: 480\n",
      "units_6: 448\n",
      "units_7: 288\n",
      "units_8: 352\n",
      "units_9: 416\n",
      "units_10: 256\n",
      "units_11: 128\n",
      "units_12: 448\n",
      "units_13: 64\n",
      "units_14: 288\n",
      "units_15: 128\n",
      "units_16: 192\n",
      "units_17: 320\n",
      "Score: nan\n",
      "Trial summary\n",
      "Hyperparameters:\n",
      "num_layers: 9\n",
      "units_0: 480\n",
      "units_1: 32\n",
      "learning_rate: 0.01\n",
      "units_2: 128\n",
      "units_3: 224\n",
      "units_4: 352\n",
      "units_5: 128\n",
      "units_6: 64\n",
      "units_7: 288\n",
      "units_8: 416\n",
      "units_9: 352\n",
      "units_10: 288\n",
      "units_11: 128\n",
      "units_12: 224\n",
      "units_13: 32\n",
      "units_14: 256\n",
      "units_15: 352\n",
      "units_16: 128\n",
      "units_17: 256\n",
      "Score: nan\n",
      "Trial summary\n",
      "Hyperparameters:\n",
      "num_layers: 7\n",
      "units_0: 448\n",
      "units_1: 384\n",
      "learning_rate: 0.0001\n",
      "units_2: 288\n",
      "units_3: 96\n",
      "units_4: 448\n",
      "units_5: 352\n",
      "units_6: 416\n",
      "units_7: 480\n",
      "units_8: 448\n",
      "units_9: 160\n",
      "units_10: 288\n",
      "units_11: 480\n",
      "units_12: 96\n",
      "units_13: 32\n",
      "units_14: 128\n",
      "units_15: 96\n",
      "units_16: 96\n",
      "units_17: 224\n",
      "Score: nan\n",
      "Trial summary\n",
      "Hyperparameters:\n",
      "num_layers: 12\n",
      "units_0: 96\n",
      "units_1: 128\n",
      "learning_rate: 0.001\n",
      "units_2: 416\n",
      "units_3: 288\n",
      "units_4: 192\n",
      "units_5: 448\n",
      "units_6: 224\n",
      "units_7: 448\n",
      "units_8: 448\n",
      "units_9: 448\n",
      "units_10: 64\n",
      "units_11: 128\n",
      "units_12: 96\n",
      "units_13: 352\n",
      "units_14: 128\n",
      "units_15: 384\n",
      "units_16: 64\n",
      "units_17: 480\n",
      "Score: nan\n"
     ]
    }
   ],
   "source": [
    "tuner.results_summary()\n",
    "\n",
    "#check the score. score here is not accuracy \n",
    "#score is mean absolute error. \n",
    "#it should be less and decrease as the epochs carries out \n",
    "\n",
    "\n",
    "#summary has layer number-> each neuron inside-> learning rate\n"
   ]
  },
  {
   "cell_type": "markdown",
   "metadata": {},
   "source": [
    "If I re run the tuner search, I will get an error INFO:tensorflow:Oracle triggered exit\n",
    "\n",
    "to avoid this, change the name of directory tuner= randomsearch()\n"
   ]
  }
 ],
 "metadata": {
  "kernelspec": {
   "display_name": "Python 3 (ipykernel)",
   "language": "python",
   "name": "python3"
  },
  "language_info": {
   "codemirror_mode": {
    "name": "ipython",
    "version": 3
   },
   "file_extension": ".py",
   "mimetype": "text/x-python",
   "name": "python",
   "nbconvert_exporter": "python",
   "pygments_lexer": "ipython3",
   "version": "3.8.8"
  }
 },
 "nbformat": 4,
 "nbformat_minor": 4
}
